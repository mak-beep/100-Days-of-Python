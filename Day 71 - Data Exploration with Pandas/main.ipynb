{
 "cells": [
  {
   "cell_type": "code",
   "execution_count": 102,
   "metadata": {},
   "outputs": [],
   "source": [
    "import pandas as pd\n",
    "\n",
    "# for formatting values\n",
    "pd.options.display.float_format= '{:,.2f}'.format\n",
    "\n",
    "# loading csv file\n",
    "df = pd.read_csv(\"salaries-by-college-major.csv\")"
   ]
  },
  {
   "cell_type": "code",
   "execution_count": 103,
   "metadata": {},
   "outputs": [
    {
     "name": "stdout",
     "output_type": "stream",
     "text": [
      "Columns = Index(['Undergraduate Major', 'Starting Median Salary',\n",
      "       'Mid-Career Median Salary', 'Mid-Career 10th Percentile Salary',\n",
      "       'Mid-Career 90th Percentile Salary', 'Group'],\n",
      "      dtype='object')\n"
     ]
    }
   ],
   "source": [
    "df.head()\n",
    "(rows, cols) = df.shape\n",
    "columns = df.columns\n",
    "df.isna()\n",
    "df.tail()\n",
    "cleaned_df = df.dropna()\n",
    "cleaned_df.tail()\n",
    "\n",
    "print(f\"Columns = {columns}\")\n"
   ]
  },
  {
   "cell_type": "code",
   "execution_count": 104,
   "metadata": {},
   "outputs": [
    {
     "data": {
      "text/plain": [
       "74300.0"
      ]
     },
     "execution_count": 104,
     "metadata": {},
     "output_type": "execute_result"
    }
   ],
   "source": [
    "# Max item\n",
    "# max(cleaned_df['Starting Median Salary'])\n",
    "cleaned_df['Starting Median Salary'].max()\n",
    "cleaned_df['Starting Median Salary'].idxmax()\n",
    "\n",
    "# getting by id\n",
    "cleaned_df['Starting Median Salary'].loc[43]\n",
    "cleaned_df['Starting Median Salary'][43]\n"
   ]
  },
  {
   "cell_type": "code",
   "execution_count": 105,
   "metadata": {},
   "outputs": [
    {
     "data": {
      "text/plain": [
       "Undergraduate Major                  Physician Assistant\n",
       "Starting Median Salary                         74,300.00\n",
       "Mid-Career Median Salary                       91,700.00\n",
       "Mid-Career 10th Percentile Salary              66,400.00\n",
       "Mid-Career 90th Percentile Salary             124,000.00\n",
       "Group                                               STEM\n",
       "Name: 43, dtype: object"
      ]
     },
     "execution_count": 105,
     "metadata": {},
     "output_type": "execute_result"
    }
   ],
   "source": [
    "cleaned_df.loc[43]"
   ]
  },
  {
   "cell_type": "code",
   "execution_count": 106,
   "metadata": {},
   "outputs": [
    {
     "name": "stdout",
     "output_type": "stream",
     "text": [
      "107000.0\n",
      "Index for the max mid career salary: 8\n"
     ]
    },
    {
     "data": {
      "text/plain": [
       "'Chemical Engineering'"
      ]
     },
     "execution_count": 106,
     "metadata": {},
     "output_type": "execute_result"
    }
   ],
   "source": [
    "print(cleaned_df['Mid-Career Median Salary'].max())\n",
    "max_mid_career_salary_index = cleaned_df['Mid-Career Median Salary'].idxmax()\n",
    "print(f\"Index for the max mid career salary: {max_mid_career_salary_index}\")\n",
    "cleaned_df['Undergraduate Major'][max_mid_career_salary_index]"
   ]
  },
  {
   "cell_type": "code",
   "execution_count": 107,
   "metadata": {},
   "outputs": [
    {
     "name": "stdout",
     "output_type": "stream",
     "text": [
      "34000.0\n"
     ]
    },
    {
     "data": {
      "text/plain": [
       "'Spanish'"
      ]
     },
     "execution_count": 107,
     "metadata": {},
     "output_type": "execute_result"
    }
   ],
   "source": [
    "lowest_starting_salary = cleaned_df['Starting Median Salary'].min()\n",
    "print(lowest_starting_salary)\n",
    "lowest_starting_salary_index = cleaned_df['Starting Median Salary'].idxmin()\n",
    "cleaned_df['Undergraduate Major'][lowest_starting_salary_index]"
   ]
  },
  {
   "cell_type": "code",
   "execution_count": 108,
   "metadata": {},
   "outputs": [
    {
     "data": {
      "text/plain": [
       "Undergraduate Major                  Education\n",
       "Starting Median Salary               34,900.00\n",
       "Mid-Career Median Salary             52,000.00\n",
       "Mid-Career 10th Percentile Salary    29,300.00\n",
       "Mid-Career 90th Percentile Salary   102,000.00\n",
       "Group                                     HASS\n",
       "Name: 18, dtype: object"
      ]
     },
     "execution_count": 108,
     "metadata": {},
     "output_type": "execute_result"
    }
   ],
   "source": [
    "lowest_mid_career_salary_index = cleaned_df['Mid-Career Median Salary'].idxmin()\n",
    "cleaned_df.loc[lowest_mid_career_salary_index]"
   ]
  },
  {
   "cell_type": "code",
   "execution_count": 111,
   "metadata": {},
   "outputs": [
    {
     "data": {
      "text/html": [
       "<div>\n",
       "<style scoped>\n",
       "    .dataframe tbody tr th:only-of-type {\n",
       "        vertical-align: middle;\n",
       "    }\n",
       "\n",
       "    .dataframe tbody tr th {\n",
       "        vertical-align: top;\n",
       "    }\n",
       "\n",
       "    .dataframe thead th {\n",
       "        text-align: right;\n",
       "    }\n",
       "</style>\n",
       "<table border=\"1\" class=\"dataframe\">\n",
       "  <thead>\n",
       "    <tr style=\"text-align: right;\">\n",
       "      <th></th>\n",
       "      <th>Undergraduate Major</th>\n",
       "      <th>Spread</th>\n",
       "      <th>Starting Median Salary</th>\n",
       "      <th>Mid-Career Median Salary</th>\n",
       "      <th>Mid-Career 10th Percentile Salary</th>\n",
       "      <th>Mid-Career 90th Percentile Salary</th>\n",
       "      <th>Group</th>\n",
       "    </tr>\n",
       "  </thead>\n",
       "  <tbody>\n",
       "    <tr>\n",
       "      <th>0</th>\n",
       "      <td>Accounting</td>\n",
       "      <td>109,800.00</td>\n",
       "      <td>46,000.00</td>\n",
       "      <td>77,100.00</td>\n",
       "      <td>42,200.00</td>\n",
       "      <td>152,000.00</td>\n",
       "      <td>Business</td>\n",
       "    </tr>\n",
       "    <tr>\n",
       "      <th>1</th>\n",
       "      <td>Aerospace Engineering</td>\n",
       "      <td>96,700.00</td>\n",
       "      <td>57,700.00</td>\n",
       "      <td>101,000.00</td>\n",
       "      <td>64,300.00</td>\n",
       "      <td>161,000.00</td>\n",
       "      <td>STEM</td>\n",
       "    </tr>\n",
       "    <tr>\n",
       "      <th>2</th>\n",
       "      <td>Agriculture</td>\n",
       "      <td>113,700.00</td>\n",
       "      <td>42,600.00</td>\n",
       "      <td>71,900.00</td>\n",
       "      <td>36,300.00</td>\n",
       "      <td>150,000.00</td>\n",
       "      <td>Business</td>\n",
       "    </tr>\n",
       "    <tr>\n",
       "      <th>3</th>\n",
       "      <td>Anthropology</td>\n",
       "      <td>104,200.00</td>\n",
       "      <td>36,800.00</td>\n",
       "      <td>61,500.00</td>\n",
       "      <td>33,800.00</td>\n",
       "      <td>138,000.00</td>\n",
       "      <td>HASS</td>\n",
       "    </tr>\n",
       "    <tr>\n",
       "      <th>4</th>\n",
       "      <td>Architecture</td>\n",
       "      <td>85,400.00</td>\n",
       "      <td>41,600.00</td>\n",
       "      <td>76,800.00</td>\n",
       "      <td>50,600.00</td>\n",
       "      <td>136,000.00</td>\n",
       "      <td>Business</td>\n",
       "    </tr>\n",
       "  </tbody>\n",
       "</table>\n",
       "</div>"
      ],
      "text/plain": [
       "     Undergraduate Major     Spread  Starting Median Salary  \\\n",
       "0             Accounting 109,800.00               46,000.00   \n",
       "1  Aerospace Engineering  96,700.00               57,700.00   \n",
       "2            Agriculture 113,700.00               42,600.00   \n",
       "3           Anthropology 104,200.00               36,800.00   \n",
       "4           Architecture  85,400.00               41,600.00   \n",
       "\n",
       "   Mid-Career Median Salary  Mid-Career 10th Percentile Salary  \\\n",
       "0                 77,100.00                          42,200.00   \n",
       "1                101,000.00                          64,300.00   \n",
       "2                 71,900.00                          36,300.00   \n",
       "3                 61,500.00                          33,800.00   \n",
       "4                 76,800.00                          50,600.00   \n",
       "\n",
       "   Mid-Career 90th Percentile Salary     Group  \n",
       "0                         152,000.00  Business  \n",
       "1                         161,000.00      STEM  \n",
       "2                         150,000.00  Business  \n",
       "3                         138,000.00      HASS  \n",
       "4                         136,000.00  Business  "
      ]
     },
     "execution_count": 111,
     "metadata": {},
     "output_type": "execute_result"
    }
   ],
   "source": [
    "# To calculate the difference between the Two different columns\n",
    "cleaned_df['Mid-Career 90th Percentile Salary'] - cleaned_df['Mid-Career 10th Percentile Salary']\n",
    "# OR\n",
    "spread_col = cleaned_df['Mid-Career 90th Percentile Salary'].subtract(cleaned_df['Mid-Career 10th Percentile Salary'])\n",
    "# To add the result back to the dataframe\n",
    "cleaned_df.insert(1, 'Spread', spread_col)  # Can't be executed twice in a single instance\n",
    "cleaned_df.head()"
   ]
  },
  {
   "cell_type": "code",
   "execution_count": 112,
   "metadata": {},
   "outputs": [
    {
     "data": {
      "text/html": [
       "<div>\n",
       "<style scoped>\n",
       "    .dataframe tbody tr th:only-of-type {\n",
       "        vertical-align: middle;\n",
       "    }\n",
       "\n",
       "    .dataframe tbody tr th {\n",
       "        vertical-align: top;\n",
       "    }\n",
       "\n",
       "    .dataframe thead th {\n",
       "        text-align: right;\n",
       "    }\n",
       "</style>\n",
       "<table border=\"1\" class=\"dataframe\">\n",
       "  <thead>\n",
       "    <tr style=\"text-align: right;\">\n",
       "      <th></th>\n",
       "      <th>Undergraduate Major</th>\n",
       "      <th>Spread</th>\n",
       "    </tr>\n",
       "  </thead>\n",
       "  <tbody>\n",
       "    <tr>\n",
       "      <th>40</th>\n",
       "      <td>Nursing</td>\n",
       "      <td>50,700.00</td>\n",
       "    </tr>\n",
       "    <tr>\n",
       "      <th>43</th>\n",
       "      <td>Physician Assistant</td>\n",
       "      <td>57,600.00</td>\n",
       "    </tr>\n",
       "    <tr>\n",
       "      <th>41</th>\n",
       "      <td>Nutrition</td>\n",
       "      <td>65,300.00</td>\n",
       "    </tr>\n",
       "    <tr>\n",
       "      <th>49</th>\n",
       "      <td>Spanish</td>\n",
       "      <td>65,400.00</td>\n",
       "    </tr>\n",
       "    <tr>\n",
       "      <th>27</th>\n",
       "      <td>Health Care Administration</td>\n",
       "      <td>66,400.00</td>\n",
       "    </tr>\n",
       "  </tbody>\n",
       "</table>\n",
       "</div>"
      ],
      "text/plain": [
       "           Undergraduate Major    Spread\n",
       "40                     Nursing 50,700.00\n",
       "43         Physician Assistant 57,600.00\n",
       "41                   Nutrition 65,300.00\n",
       "49                     Spanish 65,400.00\n",
       "27  Health Care Administration 66,400.00"
      ]
     },
     "execution_count": 112,
     "metadata": {},
     "output_type": "execute_result"
    }
   ],
   "source": [
    "# sorting\n",
    "low_risk = cleaned_df.sort_values('Spread')\n",
    "low_risk[['Undergraduate Major', 'Spread']].head()"
   ]
  },
  {
   "cell_type": "code",
   "execution_count": 113,
   "metadata": {},
   "outputs": [
    {
     "data": {
      "text/html": [
       "<div>\n",
       "<style scoped>\n",
       "    .dataframe tbody tr th:only-of-type {\n",
       "        vertical-align: middle;\n",
       "    }\n",
       "\n",
       "    .dataframe tbody tr th {\n",
       "        vertical-align: top;\n",
       "    }\n",
       "\n",
       "    .dataframe thead th {\n",
       "        text-align: right;\n",
       "    }\n",
       "</style>\n",
       "<table border=\"1\" class=\"dataframe\">\n",
       "  <thead>\n",
       "    <tr style=\"text-align: right;\">\n",
       "      <th></th>\n",
       "      <th>Undergraduate Major</th>\n",
       "      <th>Mid-Career 90th Percentile Salary</th>\n",
       "    </tr>\n",
       "  </thead>\n",
       "  <tbody>\n",
       "    <tr>\n",
       "      <th>17</th>\n",
       "      <td>Economics</td>\n",
       "      <td>210,000.00</td>\n",
       "    </tr>\n",
       "    <tr>\n",
       "      <th>22</th>\n",
       "      <td>Finance</td>\n",
       "      <td>195,000.00</td>\n",
       "    </tr>\n",
       "    <tr>\n",
       "      <th>8</th>\n",
       "      <td>Chemical Engineering</td>\n",
       "      <td>194,000.00</td>\n",
       "    </tr>\n",
       "    <tr>\n",
       "      <th>37</th>\n",
       "      <td>Math</td>\n",
       "      <td>183,000.00</td>\n",
       "    </tr>\n",
       "    <tr>\n",
       "      <th>44</th>\n",
       "      <td>Physics</td>\n",
       "      <td>178,000.00</td>\n",
       "    </tr>\n",
       "  </tbody>\n",
       "</table>\n",
       "</div>"
      ],
      "text/plain": [
       "     Undergraduate Major  Mid-Career 90th Percentile Salary\n",
       "17             Economics                         210,000.00\n",
       "22               Finance                         195,000.00\n",
       "8   Chemical Engineering                         194,000.00\n",
       "37                  Math                         183,000.00\n",
       "44               Physics                         178,000.00"
      ]
     },
     "execution_count": 113,
     "metadata": {},
     "output_type": "execute_result"
    }
   ],
   "source": [
    "high_potential = cleaned_df.sort_values('Mid-Career 90th Percentile Salary', ascending=False)\n",
    "high_potential[['Undergraduate Major','Mid-Career 90th Percentile Salary']].head()"
   ]
  },
  {
   "cell_type": "code",
   "execution_count": 114,
   "metadata": {},
   "outputs": [
    {
     "data": {
      "text/html": [
       "<div>\n",
       "<style scoped>\n",
       "    .dataframe tbody tr th:only-of-type {\n",
       "        vertical-align: middle;\n",
       "    }\n",
       "\n",
       "    .dataframe tbody tr th {\n",
       "        vertical-align: top;\n",
       "    }\n",
       "\n",
       "    .dataframe thead th {\n",
       "        text-align: right;\n",
       "    }\n",
       "</style>\n",
       "<table border=\"1\" class=\"dataframe\">\n",
       "  <thead>\n",
       "    <tr style=\"text-align: right;\">\n",
       "      <th></th>\n",
       "      <th>Undergraduate Major</th>\n",
       "      <th>Spread</th>\n",
       "    </tr>\n",
       "  </thead>\n",
       "  <tbody>\n",
       "    <tr>\n",
       "      <th>17</th>\n",
       "      <td>Economics</td>\n",
       "      <td>159,400.00</td>\n",
       "    </tr>\n",
       "    <tr>\n",
       "      <th>22</th>\n",
       "      <td>Finance</td>\n",
       "      <td>147,800.00</td>\n",
       "    </tr>\n",
       "    <tr>\n",
       "      <th>37</th>\n",
       "      <td>Math</td>\n",
       "      <td>137,800.00</td>\n",
       "    </tr>\n",
       "    <tr>\n",
       "      <th>36</th>\n",
       "      <td>Marketing</td>\n",
       "      <td>132,900.00</td>\n",
       "    </tr>\n",
       "    <tr>\n",
       "      <th>42</th>\n",
       "      <td>Philosophy</td>\n",
       "      <td>132,500.00</td>\n",
       "    </tr>\n",
       "  </tbody>\n",
       "</table>\n",
       "</div>"
      ],
      "text/plain": [
       "   Undergraduate Major     Spread\n",
       "17           Economics 159,400.00\n",
       "22             Finance 147,800.00\n",
       "37                Math 137,800.00\n",
       "36           Marketing 132,900.00\n",
       "42          Philosophy 132,500.00"
      ]
     },
     "execution_count": 114,
     "metadata": {},
     "output_type": "execute_result"
    }
   ],
   "source": [
    "great_spread = cleaned_df.sort_values('Spread', ascending=False)\n",
    "great_spread[['Undergraduate Major','Spread']].head()"
   ]
  },
  {
   "cell_type": "code",
   "execution_count": 116,
   "metadata": {},
   "outputs": [
    {
     "name": "stdout",
     "output_type": "stream",
     "text": [
      "             Spread  Starting Median Salary  Mid-Career Median Salary  \\\n",
      "Group                                                                   \n",
      "Business 103,958.33               44,633.33                 75,083.33   \n",
      "HASS      95,218.18               37,186.36                 62,968.18   \n",
      "STEM     101,600.00               53,862.50                 90,812.50   \n",
      "\n",
      "          Mid-Career 10th Percentile Salary  Mid-Career 90th Percentile Salary  \n",
      "Group                                                                           \n",
      "Business                          43,566.67                         147,525.00  \n",
      "HASS                              34,145.45                         129,363.64  \n",
      "STEM                              56,025.00                         157,625.00  \n"
     ]
    }
   ],
   "source": [
    "groups = cleaned_df.groupby('Group')\n",
    "groups_items = groups.count()\n",
    "groups_mean = groups.mean(numeric_only=True)\n",
    "print(groups_mean)\n"
   ]
  },
  {
   "cell_type": "markdown",
   "metadata": {},
   "source": [
    "***Today's Learning Points:***\n",
    "\n",
    "1. Use .head(), .tail(), .shape and .columns to explore your DataFrame and find out the number of rows and columns as well as the column names.\n",
    "\n",
    "2. Look for NaN (not a number) values with .findna() and consider using .dropna() to clean up your DataFrame.\n",
    "\n",
    "3. You can access entire columns of a DataFrame using the square bracket notation: df['column name'] or df[['column name 1', 'column name 2', 'column name 3']]\n",
    "\n",
    "4. You can access individual cells in a DataFrame by chaining square brackets df['column name'][index] or using df['column name'].loc[index]\n",
    "\n",
    "5. The largest and smallest values, as well as their positions, can be found with methods like .max(), .min(), .idxmax() and .idxmin()\n",
    "\n",
    "6. You can sort the DataFrame with .sort_values() and add new columns with .insert()\n",
    "\n",
    "7. To create an Excel Style Pivot Table by grouping entries that belong to a particular category use the .groupby() method"
   ]
  },
  {
   "cell_type": "markdown",
   "metadata": {},
   "source": []
  }
 ],
 "metadata": {
  "kernelspec": {
   "display_name": "Python 3",
   "language": "python",
   "name": "python3"
  },
  "language_info": {
   "codemirror_mode": {
    "name": "ipython",
    "version": 3
   },
   "file_extension": ".py",
   "mimetype": "text/x-python",
   "name": "python",
   "nbconvert_exporter": "python",
   "pygments_lexer": "ipython3",
   "version": "3.11.5"
  },
  "orig_nbformat": 4
 },
 "nbformat": 4,
 "nbformat_minor": 2
}
